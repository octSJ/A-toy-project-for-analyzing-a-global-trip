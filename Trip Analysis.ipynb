{
 "cells": [
  {
   "cell_type": "raw",
   "id": "88eabb20",
   "metadata": {},
   "source": [
    "*Tour starts from New York, USA and all prices are in USD($).\n",
    "**Flight costs listed are one-way cost.\n",
    "***If trip duration is less than 1 week, car rent will be of one entire week.\n",
    "****Source of data : Internet."
   ]
  },
  {
   "cell_type": "raw",
   "id": "e6863d07",
   "metadata": {},
   "source": [
    "City                 Flight cost                  Hotel cost per day                   Car rent per week"
   ]
  },
  {
   "cell_type": "raw",
   "id": "f5a231aa",
   "metadata": {},
   "source": [
    "Paris                   522                              20                                 200"
   ]
  },
  {
   "cell_type": "raw",
   "id": "6c648a8f",
   "metadata": {},
   "source": [
    "London                  418                              130                                300"
   ]
  },
  {
   "cell_type": "raw",
   "id": "6ffb5b61",
   "metadata": {},
   "source": [
    "Dubai                   633                              71                                 116"
   ]
  },
  {
   "cell_type": "raw",
   "id": "ecd5cf74",
   "metadata": {},
   "source": [
    "Mumbai                  608                              50                                 285"
   ]
  },
  {
   "cell_type": "raw",
   "id": "56f97982",
   "metadata": {},
   "source": [
    "Venice                  931                              135                                118 "
   ]
  },
  {
   "cell_type": "raw",
   "id": "fcb5db11",
   "metadata": {},
   "source": [
    "Tokyo                   1012                             37                                 320"
   ]
  },
  {
   "cell_type": "raw",
   "id": "6f7d336a",
   "metadata": {},
   "source": [
    "Sydney                  1047                             99                                 230"
   ]
  },
  {
   "cell_type": "raw",
   "id": "e72a017f",
   "metadata": {},
   "source": [
    "Lima                    302                              51                                 112 "
   ]
  },
  {
   "cell_type": "raw",
   "id": "9764859c",
   "metadata": {},
   "source": [
    "Honolulu                413                              500                                541"
   ]
  },
  {
   "cell_type": "raw",
   "id": "aff8f540",
   "metadata": {},
   "source": [
    "Cape Town               1139                             79                                 117"
   ]
  },
  {
   "cell_type": "markdown",
   "id": "f5ad0930",
   "metadata": {},
   "source": [
    "Q1. For a one week trip, in which city the total expense will be the least?\n",
    "\n",
    "Q2. (i) If the total budget is $1000, which city to visit for maximizing the duration of the trip?\n",
    "    (ii) And which city to minimize the duration of the trip?"
   ]
  },
  {
   "cell_type": "code",
   "execution_count": null,
   "id": "a5bd4e0a",
   "metadata": {},
   "outputs": [],
   "source": [
    "'''Given Data'''\n",
    "import math\n",
    "# city = [\"Name\", Flight, Hotel_cost_per_day, Car_rent_per_week]\n",
    "city_1 = [\"Paris\", 522, 20, 200]\n",
    "city_2 = [\"London\", 418, 130, 300]\n",
    "city_3 = [\"Dubai\", 633, 71, 116]\n",
    "city_4 = [\"Mumbai\", 608, 50, 285]\n",
    "city_5  = [\"Venice\", 931, 135, 118]\n",
    "city_6  = [\"Tokyo\", 1012, 37, 320]\n",
    "city_7  = [\"Sydney\", 1047, 99, 230]\n",
    "city_8  = [\"Lima\", 302, 51, 112]\n",
    "city_9  = [\"Honolulu\", 413, 500, 541]\n",
    "city_10  = [\"Cape Town\", 1139, 79, 117]\n",
    "\n",
    "trip_duration_in_days = int(input(\"Enter the number of trip days : \"))\n",
    "total_budget = int(input(\"Enter the total budget in USD : \"))\n",
    "\n",
    "trip_duration = 1/(trip_duration_in_days) #(in week)"
   ]
  },
  {
   "cell_type": "code",
   "execution_count": null,
   "id": "bf045ff3",
   "metadata": {},
   "outputs": [],
   "source": [
    "'''City_1'''\n",
    "expense_1 = 2 * city_1[1] + trip_duration_in_days * (city_1[2]) + math.ceil(trip_duration) * city_1[3]\n",
    "print(city_1[0]+\"\\'s Total expense will be = $\",expense_1)"
   ]
  },
  {
   "cell_type": "code",
   "execution_count": null,
   "id": "79768203",
   "metadata": {},
   "outputs": [],
   "source": [
    "'''City_2'''\n",
    "expense_2 = 2 * city_2[1] + trip_duration_in_days * (city_2[2]) + math.ceil(trip_duration) * city_2[3]\n",
    "print(city_2[0]+\"\\'s Total expense will be = $\",expense_2)"
   ]
  },
  {
   "cell_type": "code",
   "execution_count": null,
   "id": "b19906b5",
   "metadata": {},
   "outputs": [],
   "source": [
    "'''City_3'''\n",
    "expense_3 = 2 * city_3[1] + trip_duration_in_days * (city_3[2]) + math.ceil(trip_duration) * city_3[3]\n",
    "print(city_3[0]+\"\\'s Total expense will be = $\",expense_3)"
   ]
  },
  {
   "cell_type": "code",
   "execution_count": null,
   "id": "0e8fc064",
   "metadata": {
    "scrolled": true
   },
   "outputs": [],
   "source": [
    "'''City_4'''\n",
    "expense_4 = 2 * city_4[1] + trip_duration_in_days * (city_4[2]) + math.ceil(trip_duration) * city_4[3]\n",
    "print(city_4[0]+\"\\'s Total expense will be = $\",expense_4)"
   ]
  },
  {
   "cell_type": "code",
   "execution_count": null,
   "id": "55c5af3e",
   "metadata": {},
   "outputs": [],
   "source": [
    "'''City_5'''\n",
    "expense_5 = 2 * city_5[1] + trip_duration_in_days * (city_5[2]) + math.ceil(trip_duration) * city_5[3]\n",
    "print(city_5[0]+\"\\'s Total expense will be = $\",expense_5)"
   ]
  },
  {
   "cell_type": "code",
   "execution_count": null,
   "id": "2732432e",
   "metadata": {},
   "outputs": [],
   "source": [
    "'''City_6'''\n",
    "expense_6 = 2 * city_6[1] + trip_duration_in_days * (city_6[2]) + math.ceil(trip_duration) * city_6[3]\n",
    "print(city_6[0]+\"\\'s Total expense will be = $\",expense_6)"
   ]
  },
  {
   "cell_type": "code",
   "execution_count": null,
   "id": "71f11bc1",
   "metadata": {},
   "outputs": [],
   "source": [
    "'''City_7'''\n",
    "expense_7 = 2 * city_7[1] + trip_duration_in_days * (city_7[2]) + math.ceil(trip_duration) * city_7[3]\n",
    "print(city_7[0]+\"\\'s Total expense will be = $\",expense_7)"
   ]
  },
  {
   "cell_type": "code",
   "execution_count": null,
   "id": "c281aeca",
   "metadata": {},
   "outputs": [],
   "source": [
    "'''City_8'''\n",
    "expense_8 = 2 * city_8[1] + trip_duration_in_days * (city_8[2]) + math.ceil(trip_duration) * city_8[3]\n",
    "print(city_8[0]+\"\\'s Total expense will be = $\",expense_8)"
   ]
  },
  {
   "cell_type": "code",
   "execution_count": null,
   "id": "4f4e7778",
   "metadata": {},
   "outputs": [],
   "source": [
    "'''City_9'''\n",
    "expense_9 = 2 * city_9[1] + trip_duration_in_days * (city_9[2]) + math.ceil(trip_duration) * city_9[3]\n",
    "print(city_9[0]+\"\\'s Total expense will be = $\",expense_9)"
   ]
  },
  {
   "cell_type": "code",
   "execution_count": null,
   "id": "31fa6689",
   "metadata": {},
   "outputs": [],
   "source": [
    "'''City_10'''\n",
    "expense_10 = 2 * city_10[1] + trip_duration_in_days * (city_10[2]) + math.ceil(trip_duration) * city_10[3]\n",
    "print(city_10[0]+\"\\'s Total expense will be = $\",expense_10)"
   ]
  },
  {
   "cell_type": "code",
   "execution_count": null,
   "id": "71c173af",
   "metadata": {},
   "outputs": [],
   "source": [
    "'''Analysis'''\n",
    "# Q1.\n",
    "expense_dict = {expense_1:city_1[0],expense_2:city_2[0],expense_3:city_3[0],expense_4:city_4[0],expense_5:city_5[0],expense_6:city_6[0],expense_7:city_7[0],expense_8:city_8[0],expense_9:city_9[0],expense_10:city_10[0]}\n",
    "expense_list = [expense_1,expense_2,expense_3,expense_4,expense_5,expense_6,expense_7,expense_8,expense_9,expense_10]\n",
    "min_expense = min(expense_list)\n",
    "max_expense = max(expense_list)\n",
    "print(\"For a\",trip_duration_in_days,\"day trip, the least expensive city will be :\",expense_dict[min_expense],\"($\"+str(min_expense)+\")\")\n",
    "print(\"For a\",trip_duration_in_days,\"day trip, the most expensive city will be :\",expense_dict[max_expense],\"($\"+str(max_expense)+\")\")\n",
    "\n",
    "# Q2.\n",
    "expense_list_by_budget = sorted(expense_list)\n",
    "city_preference_by_budget = []\n",
    "city_out_of_budget = []\n",
    "for i in range(len(expense_list_by_budget)):\n",
    "    if (expense_list_by_budget[i] <= total_budget):\n",
    "        city_preference_by_budget.append(expense_dict[expense_list_by_budget[i]])\n",
    "    else:\n",
    "        city_out_of_budget.append(expense_dict[expense_list_by_budget[i]])\n",
    "print(\"City preference according to total budget (Low to High) : \",city_preference_by_budget)\n",
    "print(\"The cities out of budget are (Low to High) : \",city_out_of_budget)"
   ]
  }
 ],
 "metadata": {
  "kernelspec": {
   "display_name": "Python 3 (ipykernel)",
   "language": "python",
   "name": "python3"
  },
  "language_info": {
   "codemirror_mode": {
    "name": "ipython",
    "version": 3
   },
   "file_extension": ".py",
   "mimetype": "text/x-python",
   "name": "python",
   "nbconvert_exporter": "python",
   "pygments_lexer": "ipython3",
   "version": "3.11.3"
  }
 },
 "nbformat": 4,
 "nbformat_minor": 5
}
